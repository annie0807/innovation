{
 "cells": [
  {
   "cell_type": "code",
   "execution_count": 1,
   "metadata": {},
   "outputs": [],
   "source": [
    "import networkx as nx\n",
    "import matplotlib.pyplot as plt\n",
    "%matplotlib notebook\n",
    "import pandas as pd\n",
    "from networkx.algorithms import bipartite\n",
    "from tqdm import tqdm\n",
    "#df = pd.read_excel('graph_測試.xlsx')"
   ]
  },
  {
   "cell_type": "code",
   "execution_count": 2,
   "metadata": {},
   "outputs": [],
   "source": [
    "df = pd.read_excel('all_patent.xlsx')\n",
    "invt_ID = df['invt_ID'].unique()"
   ]
  },
  {
   "cell_type": "code",
   "execution_count": 3,
   "metadata": {},
   "outputs": [],
   "source": [
    "import math\n",
    "n = math.ceil(len(invt_ID)/4)\n",
    "#print(len(invt_ID))\n",
    "#print(n, 2*n, 3*n, 4*n)"
   ]
  },
  {
   "cell_type": "code",
   "execution_count": 4,
   "metadata": {},
   "outputs": [],
   "source": [
    "df = df.dropna(how='all', axis=1)"
   ]
  },
  {
   "cell_type": "code",
   "execution_count": null,
   "metadata": {},
   "outputs": [
    {
     "name": "stderr",
     "output_type": "stream",
     "text": [
      " 34%|█████████████████████████▎                                                | 10718/31317 [43:04<1:24:55,  4.04it/s]"
     ]
    }
   ],
   "source": [
    "import pickle\n",
    "import time\n",
    "inventor = []\n",
    "for i in tqdm(range(0, n)):\n",
    "    nodes_PN = []\n",
    "    nodes_assignee = []\n",
    "    edges = []\n",
    "    for PN in df.loc[(df['invt_ID']==invt_ID[i])]['PN']:\n",
    "        if PN not in nodes_PN:\n",
    "            nodes_PN.append(PN)\n",
    "    for ass_ID in df.loc[(df['invt_ID']== invt_ID[i])]['assignee_ID']:\n",
    "        if ass_ID not in nodes_assignee:\n",
    "            nodes_assignee.append(ass_ID)        \n",
    "    for j in df.loc[(df['invt_ID']== invt_ID[i])].index:\n",
    "        edges.append((df.loc[(df['invt_ID']==invt_ID[i])]['PN'][j],df.loc[(df['invt_ID']==invt_ID[i])]['assignee_ID'][j]))\n",
    "        \n",
    "    inventor.append({invt_ID[i]:{'nodes_PN':nodes_PN , 'nodes_assignee':nodes_assignee, 'edges':edges}})\n",
    "\n",
    "with open('C:/Users/Annie/Desktop/innova_rank/inventor_{}.pickle'.format('part1'), 'wb') as handle:\n",
    "    pickle.dump(inventor, handle, protocol=pickle.HIGHEST_PROTOCOL)\n",
    "    #time.sleep(0.01)"
   ]
  },
  {
   "cell_type": "code",
   "execution_count": null,
   "metadata": {},
   "outputs": [],
   "source": [
    "#nx.draw_networkx(B, with_labels=True)"
   ]
  },
  {
   "cell_type": "code",
   "execution_count": 7,
   "metadata": {},
   "outputs": [],
   "source": [
    "from networkx.algorithms import bipartite\n",
    "def get_connected_len(nodes_PN, nodes_assignee, edges):\n",
    "    B = nx.Graph()\n",
    "    B.add_nodes_from(nodes_PN,bipartite=0)\n",
    "    B.add_nodes_from(nodes_assignee,bipartite=1)\n",
    "    B.add_edges_from(edges)\n",
    "    bipartite.is_bipartite(B)\n",
    "    edges = B.edges()\n",
    "    #nx.draw_networkx(B,pos = nx.drawing.layout.bipartite_layout(B, nodes_PN), width = 2)\n",
    "    return len(list(nx.connected_components(B)))"
   ]
  },
  {
   "cell_type": "code",
   "execution_count": 8,
   "metadata": {},
   "outputs": [],
   "source": [
    "disconnected = []\n",
    "for i in range(len(invt_ID)):\n",
    "    for key, graph in inventor[i].items():\n",
    "        node_pn = graph['nodes_PN']\n",
    "        node_ass = graph['nodes_assignee']\n",
    "        edge = graph['edges']\n",
    "        if get_connected_len(node_pn, node_ass, edge) > 1:\n",
    "            #print(key)\n",
    "            disconnected.append(key)"
   ]
  },
  {
   "cell_type": "code",
   "execution_count": 9,
   "metadata": {},
   "outputs": [
    {
     "data": {
      "text/plain": [
       "['fl:a_ln:abram-1',\n",
       " 'fl:a_ln:acharya-2',\n",
       " 'fl:a_ln:abouabdellah-1',\n",
       " 'fl:a_ln:abraham-9',\n",
       " 'fl:a_ln:ackerman-4',\n",
       " 'fl:a_ln:adamis-1',\n",
       " 'fl:a_ln:adejare-1']"
      ]
     },
     "execution_count": 9,
     "metadata": {},
     "output_type": "execute_result"
    }
   ],
   "source": [
    "print(len(disconnected))\n",
    "len(disconnected)"
   ]
  }
 ],
 "metadata": {
  "kernelspec": {
   "display_name": "Python 3",
   "language": "python",
   "name": "python3"
  },
  "language_info": {
   "codemirror_mode": {
    "name": "ipython",
    "version": 3
   },
   "file_extension": ".py",
   "mimetype": "text/x-python",
   "name": "python",
   "nbconvert_exporter": "python",
   "pygments_lexer": "ipython3",
   "version": "3.8.5"
  }
 },
 "nbformat": 4,
 "nbformat_minor": 4
}
